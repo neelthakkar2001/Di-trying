{
 "cells": [
  {
   "cell_type": "code",
   "execution_count": 1,
   "metadata": {},
   "outputs": [
    {
     "data": {
      "image/png": "[encoded data removed]",
      "text/plain": [
       "<Figure size 100x100 with 1 Axes>"
      ]
     },
     "metadata": {},
     "output_type": "display_data"
    }
   ],
   "source": [
    "import numpy as np\n",
    "import matplotlib.pyplot as plt\n",
    "import random\n",
    "import os\n",
    "\n",
    "class UnionFind:\n",
    "    def __init__(self, n):\n",
    "        self.parent = list(range(n))\n",
    "        self.rank = [0] * n\n",
    "\n",
    "    def find(self, u):\n",
    "        if self.parent[u] != u:\n",
    "            self.parent[u] = self.find(self.parent[u])\n",
    "        return self.parent[u]\n",
    "\n",
    "    def union(self, u, v):\n",
    "        root_u = self.find(u)\n",
    "        root_v = self.find(v)\n",
    "        if root_u != root_v:\n",
    "            if self.rank[root_u] > self.rank[root_v]:\n",
    "                self.parent[root_v] = root_u\n",
    "            elif self.rank[root_u] < self.rank[root_v]:\n",
    "                self.parent[root_u] = root_v\n",
    "            else:\n",
    "                self.parent[root_v] = root_u\n",
    "                self.rank[root_u] += 1\n",
    "\n",
    "def generate_maze(size):\n",
    "    uf = UnionFind(size * size)\n",
    "    edges = []\n",
    "\n",
    "    for i in range(size):\n",
    "        for j in range(size):\n",
    "            if i < size - 1:\n",
    "                edges.append((i * size + j, (i + 1) * size + j))\n",
    "            if j < size - 1:\n",
    "                edges.append((i * size + j, i * size + (j + 1)))\n",
    "\n",
    "    random.shuffle(edges)\n",
    "\n",
    "    maze = np.zeros((size * 2 + 1, size * 2 + 1), dtype=int)\n",
    "    maze[1::2, 1::2] = 1\n",
    "\n",
    "    for u, v in edges:\n",
    "        if uf.find(u) != uf.find(v):\n",
    "            uf.union(u, v)\n",
    "            ux, uy = divmod(u, size)\n",
    "            vx, vy = divmod(v, size)\n",
    "            maze[ux + vx + 1, uy + vy + 1] = 1\n",
    "\n",
    "    return maze\n",
    "\n",
    "def plot_maze(maze):\n",
    "    plt.figure(figsize=(1, 1))\n",
    "    plt.imshow(maze, cmap='binary')\n",
    "    plt.xticks([]), plt.yticks([])  # Hide the axis\n",
    "    plt.show()\n",
    "\n",
    "size = 12\n",
    "maze = generate_maze(size)\n",
    "plot_maze(maze)\n"
   ]
  },
  {
   "cell_type": "code",
   "execution_count": 2,
   "metadata": {},
   "outputs": [
    {
     "data": {
      "image/png": "[encoded data removed]",
      "text/plain": [
       "<Figure size 600x600 with 1 Axes>"
      ]
     },
     "metadata": {},
     "output_type": "display_data"
    }
   ],
   "source": [
    "import numpy as np\n",
    "import matplotlib.pyplot as plt\n",
    "import random\n",
    "import os\n",
    "\n",
    "class UnionFind:\n",
    "    def __init__(self, n):\n",
    "        self.parent = list(range(n))\n",
    "        self.rank = [0] * n\n",
    "\n",
    "    def find(self, u):\n",
    "        if self.parent[u] != u:\n",
    "            self.parent[u] = self.find(self.parent[u])\n",
    "        return self.parent[u]\n",
    "\n",
    "    def union(self, u, v):\n",
    "        root_u = self.find(u)\n",
    "        root_v = self.find(v)\n",
    "        if root_u != root_v:\n",
    "            if self.rank[root_u] > self.rank[root_v]:\n",
    "                self.parent[root_v] = root_u\n",
    "            elif self.rank[root_u] < self.rank[root_v]:\n",
    "                self.parent[root_u] = root_v\n",
    "            else:\n",
    "                self.parent[root_v] = root_u\n",
    "                self.rank[root_u] += 1\n",
    "\n",
    "def generate_maze(size):\n",
    "    uf = UnionFind(size * size)\n",
    "    edges = []\n",
    "\n",
    "    # Generate potential wall locations\n",
    "    for i in range(size):\n",
    "        for j in range(size):\n",
    "            if i < size - 1:\n",
    "                edges.append(((i, j), (i + 1, j)))\n",
    "            if j < size - 1:\n",
    "                edges.append(((i, j), (i, j + 1)))\n",
    "\n",
    "    random.shuffle(edges)\n",
    "\n",
    "    # Create the initial maze with all walls\n",
    "    maze = np.zeros((size * 2 + 1, size * 2 + 1), dtype=int)\n",
    "    maze[1::2, 1::2] = 1\n",
    "\n",
    "    # Apply Kruskal's algorithm to create the maze\n",
    "    for (u, v) in edges:\n",
    "        u_index = u[0] * size + u[1]\n",
    "        v_index = v[0] * size + v[1]\n",
    "        if uf.find(u_index) != uf.find(v_index):\n",
    "            uf.union(u_index, v_index)\n",
    "            ux, uy = u\n",
    "            vx, vy = v\n",
    "            maze[ux + vx + 1, uy + vy + 1] = 1\n",
    "\n",
    "    return maze\n",
    "\n",
    "def plot_maze(maze):\n",
    "    plt.figure(figsize=(6, 6))\n",
    "    plt.imshow(maze, cmap='binary')\n",
    "    plt.xticks([]), plt.yticks([])  # Hide the axis\n",
    "    plt.show()\n",
    "\n",
    "size = 12\n",
    "maze = generate_maze(size)\n",
    "plot_maze(maze)\n"
   ]
  },
  {
   "cell_type": "code",
   "execution_count": 3,
   "metadata": {},
   "outputs": [],
   "source": [
    "# import os\n",
    "\n",
    "# # Ensure the folder exists\n",
    "# output_folder = \"maze_maps4\"\n",
    "# if not os.path.exists(output_folder):\n",
    "#     os.makedirs(output_folder)\n",
    "\n",
    "# # Function to save maze images\n",
    "# def save_mazes(num_mazes, size, folder):\n",
    "#     for i in range(num_mazes):\n",
    "#         maze = generate_maze(size)\n",
    "#         plt.figure(figsize=(1, 1))\n",
    "#         plt.imshow(maze, cmap='binary')\n",
    "#         plt.xticks([]), plt.yticks([])  # Hide the axis\n",
    "#         # maze = maze.resize((100, 100), Image.NEAREST)  # Resize to 100x100 pixels\n",
    "#         plt.savefig(os.path.join(folder, f\"maze_{i+1}.png\"))\n",
    "#         plt.close()\n",
    "\n",
    "# # Generate and save 100 maze images\n",
    "\n",
    "# number_of_mazes = 10\n",
    "\n",
    "# save_mazes(number_of_mazes, size, output_folder)\n"
   ]
  },
  {
   "cell_type": "code",
   "execution_count": 4,
   "metadata": {},
   "outputs": [
    {
     "name": "stdout",
     "output_type": "stream",
     "text": [
      "'300' maze images have been saved in the 'maze_maps5' folder.\n"
     ]
    }
   ],
   "source": [
    "import os\n",
    "from PIL import Image\n",
    "\n",
    "# Ensure the output directory exists\n",
    "output_dir = 'maze_maps5'\n",
    "os.makedirs(output_dir, exist_ok=True)\n",
    "\n",
    "def save_maze_image(maze, path):\n",
    "    img_size = (maze.shape[0], maze.shape[1])\n",
    "    img = Image.fromarray(np.uint8(maze * 255), 'L')\n",
    "    img = img.resize((100, 100), Image.NEAREST)  # Resize to 100x100 pixels\n",
    "    img.save(path)\n",
    "\n",
    "# Generate and save number_of_images maze images\n",
    "number_of_images = 300\n",
    "for i in range(number_of_images):\n",
    "    maze = generate_maze(size)\n",
    "    image_path = os.path.join(output_dir, f'maze_{i + 1}.png')\n",
    "    save_maze_image(maze, image_path)\n",
    "\n",
    "print(f\"'{number_of_images}' maze images have been saved in the '{output_dir}' folder.\")\n"
   ]
  },
  {
   "cell_type": "code",
   "execution_count": null,
   "metadata": {},
   "outputs": [],
   "source": []
  }
 ],
 "metadata": {
  "kernelspec": {
   "display_name": "Python 3",
   "language": "python",
   "name": "python3"
  },
  "language_info": {
   "codemirror_mode": {
    "name": "ipython",
    "version": 3
   },
   "file_extension": ".py",
   "mimetype": "text/x-python",
   "name": "python",
   "nbconvert_exporter": "python",
   "pygments_lexer": "ipython3",
   "version": "3.11.7"
  }
 },
 "nbformat": 4,
 "nbformat_minor": 2
}
