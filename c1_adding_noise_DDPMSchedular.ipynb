{
 "cells": [
  {
   "cell_type": "code",
   "execution_count": 162,
   "metadata": {},
   "outputs": [],
   "source": [
    "import torch\n",
    "from torch.utils.data import Dataset, DataLoader, random_split\n",
    "import torch.nn as nn\n",
    "import torch.nn.functional as F\n",
    "import math\n",
    "import torch.optim as optim\n",
    "import numpy as np\n",
    "from diffusers.schedulers.scheduling_ddpm import DDPMScheduler\n",
    "from torchvision.models import resnet18, ResNet18_Weights\n",
    "from torchvision import transforms\n",
    "from PIL import Image\n",
    "import os\n",
    "import matplotlib.pyplot as plt\n",
    "from torch.nn.utils.rnn import pad_sequence\n",
    "from torchmetrics import MeanAbsoluteError\n",
    "from sklearn.preprocessing import StandardScaler\n",
    "from torchvision.transforms import Resize, ToTensor\n",
    "from torchvision.transforms.functional import to_pil_image\n",
    "# from models.resnet import ResNet18VisualEncoder\n"
   ]
  },
  {
   "cell_type": "code",
   "execution_count": 163,
   "metadata": {},
   "outputs": [],
   "source": [
    "# Load the trajectory data\n",
    "def load_trajectory_data(file_path):\n",
    "    return np.load(file_path, allow_pickle=True)    "
   ]
  },
  {
   "cell_type": "code",
   "execution_count": 164,
   "metadata": {},
   "outputs": [],
   "source": [
    "# Initialize the DDPM scheduler\n",
    "noise_scheduler = DDPMScheduler(num_train_timesteps=1000, beta_schedule='squaredcos_cap_v2')"
   ]
  },
  {
   "cell_type": "code",
   "execution_count": 165,
   "metadata": {},
   "outputs": [],
   "source": [
    "def add_noise_to_trajectory(trajectory, noise_scheduler):\n",
    "    # Convert the trajectory to a tensor\n",
    "    trajectory_tensor = torch.tensor(trajectory, dtype=torch.float32)\n",
    "    Image_min = 2\n",
    "    Image_max = 99\n",
    "\n",
    "    noise = torch.randn_like(trajectory_tensor)* 15\n",
    "    noise = torch.clamp(noise,Image_min, Image_min)\n",
    "    timesteps = torch.randint(100, 800, (trajectory_tensor.shape[0],)).long()\n",
    "\n",
    "    # Add noise using the scheduler\n",
    "    noisy_trajectory = noise_scheduler.add_noise(trajectory_tensor, noise, timesteps)\n",
    "    noisy_trajectory = torch.clamp(noisy_trajectory,Image_min, Image_max)\n",
    "\n",
    "    # Return the noisy trajectory as a numpy array\n",
    "    return noisy_trajectory.numpy()\n"
   ]
  },
  {
   "cell_type": "code",
   "execution_count": 166,
   "metadata": {},
   "outputs": [],
   "source": [
    "# Load the trajectory data\n",
    "trajectory_data = load_trajectory_data(\"./data/trajectories_1.npy\")"
   ]
  },
  {
   "cell_type": "code",
   "execution_count": 167,
   "metadata": {},
   "outputs": [
    {
     "data": {
      "text/plain": [
       "'./data/noisy_trajectories_1.npy'"
      ]
     },
     "execution_count": 167,
     "metadata": {},
     "output_type": "execute_result"
    }
   ],
   "source": [
    "# Loop through each trajectory data\n",
    "noisy_trajectories = []\n",
    "for data in trajectory_data:\n",
    "    trajectory = data['trajectory']\n",
    "    \n",
    "    # Add noise to the trajectory\n",
    "    noisy_trajectory = add_noise_to_trajectory(trajectory, noise_scheduler)\n",
    "    \n",
    "    # Append the noisy trajectory to the list\n",
    "    noisy_trajectories.append({\n",
    "        'map_name': data['map_name'],\n",
    "        'start': data['start'],\n",
    "        'goal': data['goal'],\n",
    "        'noisy_trajectory': noisy_trajectory  # Save the final noisy trajectory\n",
    "    })\n",
    "\n",
    "# Save the data to a .npy file\n",
    "output_file_path = './data/noisy_trajectories_1.npy'\n",
    "np.save(output_file_path, noisy_trajectories)\n",
    "\n",
    "output_file_path"
   ]
  }
 ],
 "metadata": {
  "kernelspec": {
   "display_name": "base",
   "language": "python",
   "name": "python3"
  },
  "language_info": {
   "codemirror_mode": {
    "name": "ipython",
    "version": 3
   },
   "file_extension": ".py",
   "mimetype": "text/x-python",
   "name": "python",
   "nbconvert_exporter": "python",
   "pygments_lexer": "ipython3",
   "version": "3.11.7"
  }
 },
 "nbformat": 4,
 "nbformat_minor": 2
}
