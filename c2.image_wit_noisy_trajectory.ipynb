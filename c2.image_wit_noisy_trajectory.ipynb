{
 "cells": [
  {
   "cell_type": "code",
   "execution_count": 2,
   "metadata": {},
   "outputs": [
    {
     "name": "stdout",
     "output_type": "stream",
     "text": [
      "Saved images with trajectories to ./noisy_4\n"
     ]
    }
   ],
   "source": [
    "\n",
    "import numpy as np\n",
    "import os\n",
    "from PIL import Image\n",
    "import matplotlib.pyplot as plt\n",
    "\n",
    "def load_trajectory_data(file_path):\n",
    "    return np.load(file_path, allow_pickle=True)\n",
    "\n",
    "def load_image(map_dir, map_name):\n",
    "    img_path = os.path.join(map_dir, map_name)\n",
    "    img = Image.open(img_path).convert('RGB')\n",
    "    return img\n",
    "\n",
    "def plot_trajectory_on_image(img, trajectory, output_path):\n",
    "    plt.figure()\n",
    "    plt.imshow(img)\n",
    "    trajectory = np.array(trajectory)\n",
    "    plt.plot(trajectory[:, 1], trajectory[:, 0], marker='o', color='r', linestyle='-')\n",
    "    plt.axis('off')\n",
    "    plt.savefig(output_path, bbox_inches='tight', pad_inches=0)\n",
    "    plt.close()\n",
    "\n",
    "def visualize_trajectories(map_dir, trajectory_file, output_dir):\n",
    "    # Load the trajectory data\n",
    "    trajectory_data = load_trajectory_data(trajectory_file)\n",
    "\n",
    "    # Ensure the output directory exists\n",
    "    if not os.path.exists(output_dir):\n",
    "        os.makedirs(output_dir)\n",
    "\n",
    "    # Loop through each trajectory data\n",
    "    for data in trajectory_data:\n",
    "        map_name = data['map_name']\n",
    "        # start = data['start']\n",
    "        # goal = data['goal']\n",
    "        trajectory = data['noisy_trajectory']\n",
    "\n",
    "        # Load the corresponding maze image\n",
    "        img = load_image(map_dir, map_name)\n",
    "\n",
    "        # Define the output path for the image with the trajectory\n",
    "        output_path = os.path.join(output_dir, f\"{map_name.split('.')[0]}_trajectory.png\")\n",
    "\n",
    "        # Plot the trajectory on the image and save it\n",
    "        plot_trajectory_on_image(img, trajectory, output_path)\n",
    "\n",
    "    print(f\"Saved images with trajectories to {output_dir}\")\n",
    "\n",
    "# Define the paths\n",
    "map_dir = './maze_maps2'\n",
    "trajectory_file = 'noisy_trajectories_4.npy'\n",
    "output_dir = './noisy_4'\n",
    "\n",
    "# Visualize the trajectories on the maze images\n",
    "visualize_trajectories(map_dir, trajectory_file, output_dir)\n"
   ]
  }
 ],
 "metadata": {
  "kernelspec": {
   "display_name": "base",
   "language": "python",
   "name": "python3"
  },
  "language_info": {
   "codemirror_mode": {
    "name": "ipython",
    "version": 3
   },
   "file_extension": ".py",
   "mimetype": "text/x-python",
   "name": "python",
   "nbconvert_exporter": "python",
   "pygments_lexer": "ipython3",
   "version": "3.11.7"
  }
 },
 "nbformat": 4,
 "nbformat_minor": 2
}
