{
 "cells": [
  {
   "cell_type": "code",
   "execution_count": 5,
   "metadata": {},
   "outputs": [],
   "source": [
    "import heapq\n",
    "import numpy as np\n",
    "from PIL import Image\n",
    "\n",
    "def heuristic(a, b):\n",
    "    return np.linalg.norm(np.array(a) - np.array(b))\n",
    "\n",
    "def astar(array, start, goal):\n",
    "    neighbors = [(0, 1), (1, 0), (0, -1), (-1, 0)]\n",
    "    close_set = set()\n",
    "    came_from = {}\n",
    "    gscore = {start: 0}\n",
    "    fscore = {start: heuristic(start, goal)}\n",
    "    oheap = []\n",
    "\n",
    "    heapq.heappush(oheap, (fscore[start], start))\n",
    "\n",
    "    while oheap:\n",
    "        current = heapq.heappop(oheap)[1]\n",
    "\n",
    "        if current == goal:\n",
    "            data = []\n",
    "            while current in came_from:\n",
    "                data.append(current)\n",
    "                current = came_from[current]\n",
    "            return data[::-1]\n",
    "\n",
    "        close_set.add(current)\n",
    "        for i, j in neighbors:\n",
    "            neighbor = current[0] + i, current[1] + j\n",
    "            tentative_g_score = gscore[current] + heuristic(current, neighbor)\n",
    "            if 0 <= neighbor[0] < array.shape[0]:\n",
    "                if 0 <= neighbor[1] < array.shape[1]:\n",
    "                    if array[neighbor[0]][neighbor[1]] == 1:\n",
    "                        continue\n",
    "                else:\n",
    "                    continue\n",
    "            else:\n",
    "                continue\n",
    "\n",
    "            if neighbor in close_set and tentative_g_score >= gscore.get(neighbor, 0):\n",
    "                continue\n",
    "\n",
    "            if tentative_g_score < gscore.get(neighbor, 0) or neighbor not in [i[1] for i in oheap]:\n",
    "                came_from[neighbor] = current\n",
    "                gscore[neighbor] = tentative_g_score\n",
    "                fscore[neighbor] = tentative_g_score + heuristic(neighbor, goal)\n",
    "                heapq.heappush(oheap, (fscore[neighbor], neighbor))\n",
    "\n",
    "    return False\n"
   ]
  },
  {
   "cell_type": "code",
   "execution_count": 6,
   "metadata": {},
   "outputs": [
    {
     "name": "stdout",
     "output_type": "stream",
     "text": [
      "Saved 20 trajectories to trajectories_2.npy\n"
     ]
    }
   ],
   "source": [
    "import os\n",
    "import random\n",
    "\n",
    "def generate_trajectory_data(map_dir, save_path, num_samples=10):\n",
    "    trajectory_data = []\n",
    "    maps = os.listdir(map_dir)\n",
    "\n",
    "    for map_name in maps:\n",
    "        map_path = os.path.join(map_dir, map_name)\n",
    "        img = Image.open(map_path).convert('L')\n",
    "        array = np.array(img)\n",
    "        array = np.where(array > 128, 0, 1)  # Assuming white is traversable (0) and black is obstacle (1)\n",
    "\n",
    "        for _ in range(num_samples):\n",
    "            while True:\n",
    "                start = (random.randint(0, array.shape[0] - 1), random.randint(0, array.shape[1] - 1))\n",
    "                goal = (random.randint(0, array.shape[0] - 1), random.randint(0, array.shape[1] - 1))\n",
    "                if array[start[0]][start[1]] == 0 and array[goal[0]][goal[1]] == 0:\n",
    "                    break\n",
    "\n",
    "            path = astar(array, start, goal)\n",
    "            if path:\n",
    "                trajectory_data.append({\n",
    "                    'map_name': map_name,\n",
    "                    'start': start,\n",
    "                    'goal': goal,\n",
    "                    'trajectory': path\n",
    "                })\n",
    "    \n",
    "    np.save(save_path, trajectory_data)\n",
    "    print(f'Saved {len(trajectory_data)} trajectories to {save_path}')\n",
    "\n",
    "# Generate trajectory data\n",
    "generate_trajectory_data('maze_maps3', 'trajectories_3.npy', num_samples=2)\n"
   ]
  }
 ],
 "metadata": {
  "kernelspec": {
   "display_name": "base",
   "language": "python",
   "name": "python3"
  },
  "language_info": {
   "codemirror_mode": {
    "name": "ipython",
    "version": 3
   },
   "file_extension": ".py",
   "mimetype": "text/x-python",
   "name": "python",
   "nbconvert_exporter": "python",
   "pygments_lexer": "ipython3",
   "version": "3.11.5"
  }
 },
 "nbformat": 4,
 "nbformat_minor": 2
}
